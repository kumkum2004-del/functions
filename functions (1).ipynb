{
  "nbformat": 4,
  "nbformat_minor": 0,
  "metadata": {
    "colab": {
      "provenance": []
    },
    "kernelspec": {
      "name": "python3",
      "display_name": "Python 3"
    },
    "language_info": {
      "name": "python"
    }
  },
  "cells": [
    {
      "cell_type": "code",
      "execution_count": null,
      "metadata": {
        "id": "jeS_mnAdEUDQ"
      },
      "outputs": [],
      "source": []
    },
    {
      "cell_type": "markdown",
      "source": [
        "#ques.1 What is the difference between a function and a method in Python?\n",
        "  - In Python, functions and methods are similar in that both are blocks of reusable code, but they have some key differences:\n",
        "     - function is not associated with any object or class.A method is a function that is associated with an object.\n",
        "     - function is defined using the def keyword.It usually takes self as the first parameter to access instance attributes.\n",
        "\n",
        "\n",
        "# ques.2  Explain the concept of function arguments and parameters in Python?\n",
        "   - Parameters → Variables inside the function definition (placeholders).\n",
        "\n",
        "   - Arguments → Actual values passed when calling the function.\n",
        "\n",
        "# ques 3.What are the different ways to define and call a function in Python?\n",
        "   - Standard Function\n",
        "   - Function with Default Arguments\n",
        "   - Keyword Arguments\n",
        "   - Lambda Function\n",
        "   - Function Returning Function\n",
        "   - Using with map() or filter()\n",
        "\n",
        "\n",
        "# ques.4  What is the purpose of the `return` statement in a Python function?\n",
        "   - return statement returns the final calue of the function.\n",
        "   - A function can return a single value using return.\n",
        "   - A function can return multiple values as a tuple.\n",
        "\n",
        "\n",
        "# ques.5 What are iterators in Python and how do they differ from iterables?\n",
        "   - An iterable is any Python object that can be looped over.\n",
        "   - an iterable elements can be changed in iterators.Keeps track of the current position during iteration.Implements both __iter__() and __next__() methods.Produces one value at a time using next().\n",
        "   \n",
        "\n",
        "# ques 6. Explain the concept of generators in Python and how they are defined.\n",
        "   - Generators in Python are a special type of iterator that allow us to generate values one at a time using the yield keyword instead of storing them all in memory.\n",
        "\n",
        "# ques 7. What are the advantages of using generators over regular functions?\n",
        "\n",
        "   - Generators don’t store all values in memory; they produce values one at a time when needed.\n",
        "   - Regular functions return entire lists, consuming more memory.\n",
        "\n",
        "\n",
        "# ques 8. What is a lambda function in Python and when is it typically used?\n",
        "   - A lambda function in Python is a small, anonymous function that can have any number of arguments but only one expression. It is defined using the lambda keyword and is often used for short, throwaway functions where defining a full function with def is unnecessary.\n",
        "\n",
        "\n",
        "# ques 9. Explain the purpose and usage of the `map()` function in Python.\n",
        "   - The map() function in Python is used to apply a function to each item in an iterable.\n",
        "\n",
        "\n",
        "# ques 10. 10. What is the difference between `map()`, `reduce()`, and `filter()` functions in Python?\n",
        "   - MAP\n",
        "      - The map() function in Python is used to apply a function to each item in an iterable.\n",
        "   - REDUCE\n",
        "      - The reduce() function in Python is used to apply a function cumulatively to all elements in an iterable, reducing them to a single value.\n",
        "   - FILTER\n",
        "      - filters the elements of an iterable based on a specific condition.\n",
        "\n",
        "\n",
        "\n",
        "# ques 11. Using pen & Paper write the internal mechanism for sum operation using  reduce function on this given\n",
        "list:[47,11,42,13];\n",
        "   -\n",
        "\n",
        "    "
      ],
      "metadata": {
        "id": "7WQR7zMPJ-h2"
      }
    },
    {
      "cell_type": "code",
      "source": [
        "# ques 1. Write a Python function that takes a list of numbers as input and returns the sum of all even numbers in the list.\n",
        "l = [1,2,3,4,5,6]\n",
        "def list_sum(l):\n",
        "  total = 0\n",
        "  for i in l:\n",
        "    if i%2==0:\n",
        "      total = total+i\n",
        "  return total\n",
        "list_sum(l)\n"
      ],
      "metadata": {
        "id": "dFKTS__xl4BP",
        "colab": {
          "base_uri": "https://localhost:8080/"
        },
        "outputId": "67a911a5-4d6d-4d29-9308-fc5e2c5a896c"
      },
      "execution_count": null,
      "outputs": [
        {
          "output_type": "execute_result",
          "data": {
            "text/plain": [
              "12"
            ]
          },
          "metadata": {},
          "execution_count": 3
        }
      ]
    },
    {
      "cell_type": "code",
      "source": [
        "# ques 2.  Create a Python function that accepts a string and returns the reverse of that string.\n",
        "def rev_string(s):\n",
        "  return s[::-1]\n",
        "name = \"kumkum\"\n",
        "rev_string(name)"
      ],
      "metadata": {
        "id": "HbKZTwzOmRZo",
        "colab": {
          "base_uri": "https://localhost:8080/",
          "height": 36
        },
        "outputId": "c3e35b78-3805-46ee-ed0d-3a314bc7ec94"
      },
      "execution_count": null,
      "outputs": [
        {
          "output_type": "execute_result",
          "data": {
            "text/plain": [
              "'mukmuk'"
            ],
            "application/vnd.google.colaboratory.intrinsic+json": {
              "type": "string"
            }
          },
          "metadata": {},
          "execution_count": 4
        }
      ]
    },
    {
      "cell_type": "code",
      "source": [
        "# 3. Implement a Python function that takes a list of integers and returns a new list containing the squares of each number.\n",
        "l = [1,2,3,4,5]\n",
        "list(map(lambda x:x**2,l))\n",
        "\n"
      ],
      "metadata": {
        "id": "il1w-uTWmcIR",
        "colab": {
          "base_uri": "https://localhost:8080/"
        },
        "outputId": "c438441a-b888-4668-9d23-21570535e86e"
      },
      "execution_count": 2,
      "outputs": [
        {
          "output_type": "execute_result",
          "data": {
            "text/plain": [
              "[1, 4, 9, 16, 25]"
            ]
          },
          "metadata": {},
          "execution_count": 2
        }
      ]
    },
    {
      "cell_type": "code",
      "source": [
        "# 4. Write a Python function that checks if a given number is prime or not from 1 to 200.\n",
        "def is_prime(num):\n",
        "    if num < 2:\n",
        "        return False\n",
        "    for i in range(2, int(num ** 0.5) + 1):\n",
        "        if num % i == 0:\n",
        "            return False\n",
        "    return True"
      ],
      "metadata": {
        "id": "Asgr6THomkty"
      },
      "execution_count": null,
      "outputs": []
    },
    {
      "cell_type": "code",
      "source": [
        "# 5. Create an iterator class in Python that generates the Fibonacci sequence up to a specified number of terms.\n",
        "fib = lambda n:n if n<=1 else fib(n-1)+fib(n-2)\n",
        "[fib(i) for i in range(10)]"
      ],
      "metadata": {
        "id": "_3wJlLMzmrDk",
        "colab": {
          "base_uri": "https://localhost:8080/"
        },
        "outputId": "8a62c6cf-e3b1-4bc5-9d3a-9ee3f708da68"
      },
      "execution_count": 3,
      "outputs": [
        {
          "output_type": "execute_result",
          "data": {
            "text/plain": [
              "[0, 1, 1, 2, 3, 5, 8, 13, 21, 34]"
            ]
          },
          "metadata": {},
          "execution_count": 3
        }
      ]
    },
    {
      "cell_type": "code",
      "source": [
        "# 6. Write a generator function in Python that yields the powers of 2 up to a given exponent.\n",
        "def square_generators(n):\n",
        "    for i in range(n):\n",
        "        yield i**2"
      ],
      "metadata": {
        "id": "ME9rR0Qqmywb"
      },
      "execution_count": null,
      "outputs": []
    },
    {
      "cell_type": "code",
      "source": [
        "# 7. Implement a generator function that reads a file line by line and yields each line as a string.\n",
        "def file_line_generator(file_path):\n",
        "    with open(file_path, 'r') as file:\n",
        "        for line in file:\n",
        "            yield line\n"
      ],
      "metadata": {
        "id": "zgZjXljEnA9M"
      },
      "execution_count": null,
      "outputs": []
    },
    {
      "cell_type": "code",
      "source": [
        "# 8. Use a lambda function in Python to sort a list of tuples based on the second element of each tuple.\n",
        "lis = [(1,2,1),(2,3,4),(1,2,3)]\n",
        "len_gth = lambda x:x[2]\n",
        "sorted(lis,key=len_gth)\n"
      ],
      "metadata": {
        "id": "Iv6vEosxnGvM",
        "colab": {
          "base_uri": "https://localhost:8080/"
        },
        "outputId": "1ea1e1fc-ac04-4b84-a59f-1f16c2df2e7e"
      },
      "execution_count": 6,
      "outputs": [
        {
          "output_type": "execute_result",
          "data": {
            "text/plain": [
              "[(1, 2, 1), (1, 2, 3), (2, 3, 4)]"
            ]
          },
          "metadata": {},
          "execution_count": 6
        }
      ]
    },
    {
      "cell_type": "code",
      "source": [
        "# 9. Write a Python program that uses `map()` to convert a list of temperatures from Celsius to Fahrenheit.\n",
        "def celsius_to_fahrenheit(celsius):\n",
        "    return (celsius * 9/5) +32\n",
        "temperatures_celsius = [0, 10, 20, 30, 40, 100]\n",
        "list(map(celsius_to_fahrenheit, temperatures_celsius))"
      ],
      "metadata": {
        "id": "UcOVW-XWnOke",
        "colab": {
          "base_uri": "https://localhost:8080/"
        },
        "outputId": "e31720bb-8a7c-4157-ce5a-db8abd3a0a3a"
      },
      "execution_count": 7,
      "outputs": [
        {
          "output_type": "execute_result",
          "data": {
            "text/plain": [
              "[32.0, 50.0, 68.0, 86.0, 104.0, 212.0]"
            ]
          },
          "metadata": {},
          "execution_count": 7
        }
      ]
    },
    {
      "cell_type": "code",
      "source": [
        "# 10. Create a Python program that uses `filter()` to remove all the vowels from a given string.\n",
        "def remove_vowels(string):\n",
        "    vowels = \"aeiouAEIOU\"\n",
        "    result = \"\"\n",
        "    for char in string:\n",
        "        if char not in vowels:\n",
        "            result += char\n",
        "    return result\n",
        "list(filter(remove_vowels,\"kumkum\"))\n"
      ],
      "metadata": {
        "id": "GTWtrJ8znOOc",
        "colab": {
          "base_uri": "https://localhost:8080/"
        },
        "outputId": "809b81a3-4234-412e-8716-985856257196"
      },
      "execution_count": 14,
      "outputs": [
        {
          "output_type": "execute_result",
          "data": {
            "text/plain": [
              "['k', 'm', 'k', 'm']"
            ]
          },
          "metadata": {},
          "execution_count": 14
        }
      ]
    },
    {
      "cell_type": "code",
      "source": [
        "'''11) Imagine an accounting routine used in a book shop. It works on a list with sublists, which look like this:\n",
        "\n",
        "\n",
        "\n",
        "\n",
        "\n",
        "\n",
        "\n",
        "Write a Python program, which returns a list with 2-tuples. Each tuple consists of the order number and the\n",
        "product of the price per item and the quantity. The product should be increased by 10,- € if the value of the\n",
        "order is smaller than 100,00 €.\n",
        "\n",
        "Write a Python program using lambda and map.'''"
      ],
      "metadata": {
        "id": "JkK4ey0YnN7q"
      },
      "execution_count": null,
      "outputs": []
    }
  ]
}